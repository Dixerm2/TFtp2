{
 "cells": [
  {
   "cell_type": "code",
   "execution_count": 4,
   "metadata": {},
   "outputs": [
    {
     "name": "stdout",
     "output_type": "stream",
     "text": [
      "ingrese el numero de filas: 1\n",
      "ingrese el numero de columnas: 1\n",
      "ingrese a matriz[1,1]: 2\n",
      "[[2]]\n"
     ]
    },
    {
     "data": {
      "text/plain": [
       "array([[2]])"
      ]
     },
     "execution_count": 4,
     "metadata": {},
     "output_type": "execute_result"
    }
   ],
   "source": [
    "###from numpy import \n",
    "numero_filas = int(input(\"ingrese el numero de filas: \"))\n",
    "numero_columnas = int(input(\"ingrese el numero de columnas: \"))\n",
    "matriz = []\n",
    "for i in range(numero_filas):\n",
    "    j=1\n",
    "    ign = int(input(\"ingrese a matriz[{},{}]: \".format(i+1,j)))\n",
    "    matriz.append([ign])\n",
    "    for j in range(numero_columnas-1):\n",
    "        ign = int(input(\"ingrese matriz[{},{}]: \".format(i+1,j+2)))\n",
    "        matriz[i].append(ign)    \n",
    "print(matriz)\n",
    "array(matriz)"
   ]
  },
  {
   "cell_type": "code",
   "execution_count": null,
   "metadata": {},
   "outputs": [],
   "source": []
  }
 ],
 "metadata": {
  "kernelspec": {
   "display_name": "Python 2",
   "language": "python",
   "name": "python2"
  },
  "language_info": {
   "codemirror_mode": {
    "name": "ipython",
    "version": 2
   },
   "file_extension": ".py",
   "mimetype": "text/x-python",
   "name": "python",
   "nbconvert_exporter": "python",
   "pygments_lexer": "ipython2",
   "version": "2.7.16"
  }
 },
 "nbformat": 4,
 "nbformat_minor": 2
}
