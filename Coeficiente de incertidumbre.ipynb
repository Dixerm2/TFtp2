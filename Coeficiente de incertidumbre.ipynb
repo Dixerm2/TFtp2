{
 "cells": [
  {
   "cell_type": "markdown",
   "metadata": {},
   "source": [
    "# Coeficiente de Incertidumbre"
   ]
  },
  {
   "cell_type": "markdown",
   "metadata": {},
   "source": [
    "## 1. El programa debe permitir ingresar una tabla de contigencia.\n",
    "En estadística las tablas de contingencia se emplean para registrar y analizar la asociación entre dos o más variables, habitualmente de naturaleza cualitativa (nominales u ordinales)."
   ]
  },
  {
   "cell_type": "code",
   "execution_count": 1,
   "metadata": {},
   "outputs": [
    {
     "name": "stdout",
     "output_type": "stream",
     "text": [
      "Etiquetas de la variable X:\n",
      "Cuantas variables de X hay: 4\n",
      "Nombre de la etiqueta de (X): Bajo\n",
      "Nombre de la etiqueta de (X): Medio\n",
      "Nombre de la etiqueta de (X): Alto\n",
      "Nombre de la etiqueta de (X): Medio Alto\n"
     ]
    }
   ],
   "source": [
    "print (\"Etiquetas de la variable X:\")\n",
    "tags_x = []\n",
    "filas = int (input (\"Cuantas variables de X hay: \"))\n",
    "for i in range (filas):\n",
    "    tags_x.append( input(\"Nombre de la etiqueta de (X): \") )"
   ]
  },
  {
   "cell_type": "code",
   "execution_count": 2,
   "metadata": {},
   "outputs": [
    {
     "name": "stdout",
     "output_type": "stream",
     "text": [
      "Etiquetas de la variable Y:\n",
      "Cuantas variables de Y hay: 3\n",
      "Nombre de la etiqueta de (Y): Bueno\n",
      "Nombre de la etiqueta de (Y): Regular\n",
      "Nombre de la etiqueta de (Y): Malo\n"
     ]
    }
   ],
   "source": [
    "print (\"Etiquetas de la variable Y:\")\n",
    "tags_y = []\n",
    "columnas = int (input (\"Cuantas variables de Y hay: \"))\n",
    "for i in range (columnas):\n",
    "    tags_y.append( input(\"Nombre de la etiqueta de (Y): \") )"
   ]
  },
  {
   "cell_type": "code",
   "execution_count": 3,
   "metadata": {},
   "outputs": [
    {
     "name": "stdout",
     "output_type": "stream",
     "text": [
      "Llenado de datos: \n",
      "Llenado para la columna 'Bueno'\n",
      "Dato: 75\n",
      "Dato: 60\n",
      "Dato: 15\n",
      "Dato: 20\n",
      "Llenado para la columna 'Regular'\n",
      "Dato: 35\n",
      "Dato: 70\n",
      "Dato: 30\n",
      "Dato: 25\n",
      "Llenado para la columna 'Malo'\n",
      "Dato: 40\n",
      "Dato: 50\n",
      "Dato: 40\n",
      "Dato: 40\n"
     ]
    }
   ],
   "source": [
    "print (\"Llenado de datos: \")\n",
    "columna_aux = []\n",
    "tabla = {}\n",
    "suma = 0\n",
    "for columna in tags_y:\n",
    "    print (\"Llenado para la columna '{0}'\".format(columna))\n",
    "    for i in range (filas):\n",
    "        dato = int ( input (\"Dato: \") )\n",
    "        columna_aux.append( dato )\n",
    "        suma += dato\n",
    "    columna_aux.append(suma)\n",
    "    tabla[columna]=columna_aux\n",
    "    columna_aux = []\n",
    "    suma = 0"
   ]
  },
  {
   "cell_type": "code",
   "execution_count": 4,
   "metadata": {},
   "outputs": [
    {
     "name": "stdout",
     "output_type": "stream",
     "text": [
      "            Bueno  Regular  Malo  Total\n",
      "Bajo           75       35    40    150\n",
      "Medio          60       70    50    180\n",
      "Alto           15       30    40     85\n",
      "Medio Alto     20       25    40     85\n",
      "Total         170      160   170    500\n"
     ]
    }
   ],
   "source": [
    "import pandas as pd\n",
    "tags_x.append(\"Total\")\n",
    "data_frame = pd.DataFrame(tabla,index=tags_x)\n",
    "data_frame['Total']=data_frame.sum(axis=1)\n",
    "print (data_frame)"
   ]
  }
 ],
 "metadata": {
  "kernelspec": {
   "display_name": "Python 3",
   "language": "python",
   "name": "python3"
  },
  "language_info": {
   "codemirror_mode": {
    "name": "ipython",
    "version": 3
   },
   "file_extension": ".py",
   "mimetype": "text/x-python",
   "name": "python",
   "nbconvert_exporter": "python",
   "pygments_lexer": "ipython3",
   "version": "3.6.7"
  }
 },
 "nbformat": 4,
 "nbformat_minor": 2
}
